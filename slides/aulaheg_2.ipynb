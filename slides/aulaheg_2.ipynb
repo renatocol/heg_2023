{
 "cells": [
  {
   "cell_type": "markdown",
   "metadata": {
    "slideshow": {
     "slide_type": "slide"
    }
   },
   "source": [
    "## <center>História Econômica Geral - FEA-USP</center>\n",
    "\n",
    "### <center>Aula 2 - O que é História Econômica?</center>\n",
    "\n",
    "#### <center>Renato Perim Colistete</center>\n",
    "\n",
    "\n",
    "#### <center>2023</center>"
   ]
  },
  {
   "cell_type": "markdown",
   "metadata": {
    "slideshow": {
     "slide_type": "slide"
    }
   },
   "source": [
    "## Definição\n",
    "\n",
    "Começamos o curso com uma pergunta óbvia, mas não tão simples: o que é História Econômica? "
   ]
  },
  {
   "cell_type": "markdown",
   "metadata": {
    "slideshow": {
     "slide_type": "fragment"
    }
   },
   "source": [
    "Uma possível definição, deliberadamente geral: é uma disciplina que tem por objeto o estudo"
   ]
  },
  {
   "cell_type": "markdown",
   "metadata": {
    "slideshow": {
     "slide_type": "fragment"
    }
   },
   "source": [
    "- das formas de produção e distribuição da riqueza social\n"
   ]
  },
  {
   "cell_type": "markdown",
   "metadata": {
    "slideshow": {
     "slide_type": "fragment"
    }
   },
   "source": [
    "- e das causas e consequências do crescimento econômico na história."
   ]
  },
  {
   "cell_type": "markdown",
   "metadata": {
    "slideshow": {
     "slide_type": "slide"
    }
   },
   "source": [
    "## Temas\n",
    "\n",
    "Pode-se ter uma ideia menos vaga do que é História Econômica considerando alguns temas de investigação típicos da disciplina, em diferentes lugares e períodos:"
   ]
  },
  {
   "cell_type": "markdown",
   "metadata": {
    "slideshow": {
     "slide_type": "fragment"
    }
   },
   "source": [
    "- os tipos de bens e serviços produzidos;"
   ]
  },
  {
   "cell_type": "markdown",
   "metadata": {
    "slideshow": {
     "slide_type": "fragment"
    }
   },
   "source": [
    "- as unidades econômicas engajadas em produção, comércio e financiamento;"
   ]
  },
  {
   "cell_type": "markdown",
   "metadata": {
    "slideshow": {
     "slide_type": "fragment"
    }
   },
   "source": [
    "- as formas de organizar, comercializar e financiar a produção;"
   ]
  },
  {
   "cell_type": "markdown",
   "metadata": {
    "slideshow": {
     "slide_type": "subslide"
    }
   },
   "source": [
    "- a produtividade e a eficiência dos métodos de produção;"
   ]
  },
  {
   "cell_type": "markdown",
   "metadata": {
    "slideshow": {
     "slide_type": "fragment"
    }
   },
   "source": [
    "- a relação entre os setores econômicos (agricultura, indústria, comércio e serviços);\n"
   ]
  },
  {
   "cell_type": "markdown",
   "metadata": {
    "slideshow": {
     "slide_type": "fragment"
    }
   },
   "source": [
    "- como a renda e a riqueza foram distribuídas;"
   ]
  },
  {
   "cell_type": "markdown",
   "metadata": {
    "slideshow": {
     "slide_type": "fragment"
    }
   },
   "source": [
    "- as relações entre grupos sociais e a economia;"
   ]
  },
  {
   "cell_type": "markdown",
   "metadata": {
    "slideshow": {
     "slide_type": "subslide"
    }
   },
   "source": [
    "- o papel do Estado, das leis, das ideias;"
   ]
  },
  {
   "cell_type": "markdown",
   "metadata": {
    "slideshow": {
     "slide_type": "fragment"
    }
   },
   "source": [
    "- o desenvolvimento tecnológico;"
   ]
  },
  {
   "cell_type": "markdown",
   "metadata": {
    "slideshow": {
     "slide_type": "fragment"
    }
   },
   "source": [
    "- as descontinuidades e rupturas, na forma de crises e mudanças na organização econômica."
   ]
  },
  {
   "cell_type": "markdown",
   "metadata": {
    "slideshow": {
     "slide_type": "slide"
    }
   },
   "source": [
    "## Temas clássicos\n",
    "\n",
    "Esses são alguns temas clássicos da História Econômica desde pelo menos o século XIX (ver, por exemplo, Arnold Toynbee, *Lectures on the Industrial Revolution*, 1884)."
   ]
  },
  {
   "cell_type": "markdown",
   "metadata": {
    "slideshow": {
     "slide_type": "fragment"
    }
   },
   "source": [
    "Tais temas têm sido geralmente estudados em conjunturas particulares (Revolução Industrial, Grande Depressão), considerando países específicos ou comparando diferentes países e regiões."
   ]
  },
  {
   "cell_type": "markdown",
   "metadata": {
    "slideshow": {
     "slide_type": "slide"
    }
   },
   "source": [
    "## Teorias e Métodos\n",
    "\n",
    "Vamos considerar agora o lado conceitual e analítico da História Econômica. Quais são os métodos e teorias utilizados na área?"
   ]
  },
  {
   "cell_type": "markdown",
   "metadata": {
    "slideshow": {
     "slide_type": "fragment"
    }
   },
   "source": [
    "\n",
    "A história econômica é por definição interdisciplinar, ou seja,\n",
    "ela cruza e utiliza várias disciplinas, especialmente Economia e\n",
    "História, mas também outras, como Ciência Política,\n",
    "Sociologia, Antropologia e Estatística."
   ]
  },
  {
   "cell_type": "markdown",
   "metadata": {
    "slideshow": {
     "slide_type": "fragment"
    }
   },
   "source": [
    "Assim, teorias, métodos e técnicas empregados na História Econômica refletem a diversidade tanto dos objetos quanto das disciplinas em que se baseia."
   ]
  },
  {
   "cell_type": "markdown",
   "metadata": {
    "slideshow": {
     "slide_type": "slide"
    }
   },
   "source": [
    "## Economia e História Econômica\n",
    "\n",
    "O que dizer da relação entre Economia e História Econômica? A resposta depende da definição dada a cada uma das partes – Economia e História. "
   ]
  },
  {
   "cell_type": "markdown",
   "metadata": {
    "slideshow": {
     "slide_type": "fragment"
    }
   },
   "source": [
    "Por exemplo, se a Economia é pensada como a elaboração de *modelos analíticos contingentes* ([Solow](https://en.wikipedia.org/wiki/Robert_Solow)), então a História Econômica é essencial (na Economia) para recriar contexto, formular e avaliar hipóteses, reformular teorias."
   ]
  },
  {
   "cell_type": "markdown",
   "metadata": {
    "slideshow": {
     "slide_type": "fragment"
    }
   },
   "source": [
    "Se, porém, a Economia é vista como a formulação de axiomas e proposições com o fim de elaborar um *modelo único e universal*, a interação com a História Econômica é irrelevante."
   ]
  },
  {
   "cell_type": "markdown",
   "metadata": {
    "slideshow": {
     "slide_type": "subslide"
    }
   },
   "source": [
    "Por outro lado, se a História Econômica for definida como uma disciplina para ser estudada apenas a partir de uma teoria ou modelo universal, \n",
    "\n",
    "> “o historiador econômico é\n",
    "apenas um economista com alta tolerância à poeira” (Solow)."
   ]
  },
  {
   "cell_type": "markdown",
   "metadata": {
    "slideshow": {
     "slide_type": "slide"
    }
   },
   "source": [
    "## História e Economia\n",
    "\n",
    "Vê-se que a simples definição do que é História Econômica e seu campo de estudo já é algo controverso (mas historiadores econômicos não costumam ficar sem dormir por isso)."
   ]
  },
  {
   "cell_type": "markdown",
   "metadata": {
    "slideshow": {
     "slide_type": "fragment"
    }
   },
   "source": [
    "Em parte, essa relativa ambiguidade deve-se às características das disciplinas de História e Economia."
   ]
  },
  {
   "cell_type": "markdown",
   "metadata": {
    "slideshow": {
     "slide_type": "fragment"
    }
   },
   "source": [
    "Ambas são bastante distintas em seus métodos e objetos, sobretudo devido ao fato de a Economia, no pós-guerra, ter se tornado crescentemente uma ciência dedutiva e axiomática."
   ]
  },
  {
   "cell_type": "markdown",
   "metadata": {
    "slideshow": {
     "slide_type": "slide"
    }
   },
   "source": [
    "## Economia institucional\n",
    "\n",
    "Nas últimas décadas, novos desenvolvimentos na Economia (via sobretudo História Econômica) reaproximaram as duas áreas. "
   ]
  },
  {
   "cell_type": "markdown",
   "metadata": {
    "slideshow": {
     "slide_type": "fragment"
    }
   },
   "source": [
    "O reencontro da Economia com a História, depois de uma longa separação, foi em\n",
    "grande medida motivada pelos trabalhos da Nova História Econômica\n",
    "Institucional."
   ]
  },
  {
   "cell_type": "markdown",
   "metadata": {
    "slideshow": {
     "slide_type": "fragment"
    }
   },
   "source": [
    "Os principais representantes incluem [Douglass North](https://en.wikipedia.org/wiki/Douglass_North), Lance Davis,\n",
    "Avner Greif, Elinor Ostrom entre outros, mas foi North quem estabeleceu\n",
    "os fundamentos da nova abordagem em sucessivos trabalhos."
   ]
  },
  {
   "cell_type": "markdown",
   "metadata": {
    "slideshow": {
     "slide_type": "subslide"
    }
   },
   "source": [
    "Três ideias básicas: "
   ]
  },
  {
   "cell_type": "markdown",
   "metadata": {
    "slideshow": {
     "slide_type": "fragment"
    }
   },
   "source": [
    " a) instituições importam;"
   ]
  },
  {
   "cell_type": "markdown",
   "metadata": {
    "slideshow": {
     "slide_type": "fragment"
    }
   },
   "source": [
    "b) instituições são \"regras do jogo\", formais e informais;"
   ]
  },
  {
   "cell_type": "markdown",
   "metadata": {
    "slideshow": {
     "slide_type": "fragment"
    }
   },
   "source": [
    "c) instituições definem incentivos em que\n",
    "a atividade política/econômica é canalizada em atividades produtivas\n",
    "*ou* improdutivas (*rent-seeking*, predatórias)."
   ]
  },
  {
   "cell_type": "markdown",
   "metadata": {
    "slideshow": {
     "slide_type": "slide"
    }
   },
   "source": [
    "## Métodos\n",
    "\n",
    "Em geral, os historiadores econômicos extraem da história a *valorização das fontes primárias*, o *rigor* e a *atitude crítica* com relação às fontes e aos dados."
   ]
  },
  {
   "cell_type": "markdown",
   "metadata": {
    "slideshow": {
     "slide_type": "fragment"
    }
   },
   "source": [
    "Os pesquisadores da área tradicionalmente também dão importância à influência de fatores institucionais sobre a\n",
    "economia, inclusive utilizando técnicas de outras disciplinas – ciência política e sociologia, p.ex."
   ]
  },
  {
   "cell_type": "markdown",
   "metadata": {
    "slideshow": {
     "slide_type": "fragment"
    }
   },
   "source": [
    "Da mesma forma, muitos historiadores econômicos (mas não\n",
    "todos, e raramente no Brasil) utilizam métodos estatísticos\n",
    "para reconstruir e analisar os múltiplos fatores que afetaram as economias\n",
    "do passado."
   ]
  },
  {
   "cell_type": "markdown",
   "metadata": {
    "slideshow": {
     "slide_type": "slide"
    }
   },
   "source": [
    "## Fatos do passado?\n",
    "\n",
    "Entre as abordagens da História (o que é aplicável também na História Econômica), as disputas têm uma de suas origens na definição do que são fatos históricos. "
   ]
  },
  {
   "cell_type": "markdown",
   "metadata": {
    "slideshow": {
     "slide_type": "fragment"
    }
   },
   "source": [
    "[Ranke](https://en.wikipedia.org/wiki/Leopold_von_Ranke) e outros autores das Escola Histórica Alemã e Inglesa propunham “mostrar apenas o que realmente aconteceu”."
   ]
  },
  {
   "cell_type": "markdown",
   "metadata": {
    "slideshow": {
     "slide_type": "fragment"
    }
   },
   "source": [
    "Essa perspectiva foi uma reação à análise histórica voltada a extrair lições para o presente ou prescrever políticas."
   ]
  },
  {
   "cell_type": "markdown",
   "metadata": {
    "slideshow": {
     "slide_type": "subslide"
    }
   },
   "source": [
    "Na perspectiva da Escola Histórica, os fatos são independentes do observador, estando disponíveis ao\n",
    "pesquisador em forma bruta nos documentos."
   ]
  },
  {
   "cell_type": "markdown",
   "metadata": {
    "slideshow": {
     "slide_type": "slide"
    }
   },
   "source": [
    "## Fatos dos historiadores?\n",
    "\n",
    "E. H. Carr (1961) atacou a concepção empirista da Escola Histórica e distinguiu “fatos do passado” e “fatos históricos”."
   ]
  },
  {
   "cell_type": "markdown",
   "metadata": {
    "slideshow": {
     "slide_type": "fragment"
    }
   },
   "source": [
    "O que é fato histórico segundo [Carr](https://en.wikipedia.org/wiki/E._H._Carr)? Fatos históricos seriam definidos *a priori* pelo historiador, não por uma\n",
    "qualidade inerente dos fatos."
   ]
  },
  {
   "cell_type": "markdown",
   "metadata": {
    "slideshow": {
     "slide_type": "fragment"
    }
   },
   "source": [
    "Um fato do passado não é um fato histórico enquanto os historiadores não conferirem a ele um significado,\n",
    "segundo Carr."
   ]
  },
  {
   "cell_type": "markdown",
   "metadata": {
    "slideshow": {
     "slide_type": "slide"
    }
   },
   "source": [
    "## Fatos históricos ou evidências\n",
    "\n",
    "Outros contestaram o relativismo de Carr. Fatos históricos não necessitariam do reconhecimento dos historiadores.\n",
    "Eles existiriam objetivamente, sendo enquanto tais investigados ou “descobertos”."
   ]
  },
  {
   "cell_type": "markdown",
   "metadata": {
    "slideshow": {
     "slide_type": "fragment"
    }
   },
   "source": [
    "O relevante seria a diferença entre “fatos históricos” e “evidências” – fatos ou dados que são utilizados para dar\n",
    "suporte a um argumento."
   ]
  },
  {
   "cell_type": "markdown",
   "metadata": {
    "slideshow": {
     "slide_type": "fragment"
    }
   },
   "source": [
    "Nessa perspectiva, é na seleção e organização das evidências que teoria e interpretação exercem um papel central, pois os fatos não falam por si mesmos."
   ]
  },
  {
   "cell_type": "markdown",
   "metadata": {
    "slideshow": {
     "slide_type": "slide"
    }
   },
   "source": [
    "##  Modelos fora do lugar\n",
    "\n",
    "Na História Econômica, uma das abordagens mais comuns é a que a vê como uma descrição da economia do passado por meio do acúmulo de fatos, sem o uso de teorias e modelos."
   ]
  },
  {
   "cell_type": "markdown",
   "metadata": {
    "slideshow": {
     "slide_type": "fragment"
    }
   },
   "source": [
    "Nessa perspectiva, o uso de teorias e modelos tende a ser visto como um recurso inadequado ou até anacrônico (fora do tempo, fora do lugar)."
   ]
  },
  {
   "cell_type": "markdown",
   "metadata": {
    "slideshow": {
     "slide_type": "fragment"
    }
   },
   "source": [
    "Da mesma forma, o uso das técnicas seria limitado àquelas compatíveis com a necessidade de acumular e descrever\n",
    "fatos considerados puros: técnicas descritivas e, eventualmente, técnica literária (narrativa)."
   ]
  },
  {
   "cell_type": "markdown",
   "metadata": {
    "slideshow": {
     "slide_type": "slide"
    }
   },
   "source": [
    "## Teoria acima dos fatos\n",
    "\n",
    "Outra visão é a de que a História Econômica consiste na aplicação de teorias – formais e não formais, explícitas ou não – em um contexto específico."
   ]
  },
  {
   "cell_type": "markdown",
   "metadata": {
    "slideshow": {
     "slide_type": "fragment"
    }
   },
   "source": [
    "O risco nessa abordagem é que teorias e modelos se sobreponham aos fatos e predeterminem os resultados."
   ]
  },
  {
   "cell_type": "markdown",
   "metadata": {
    "slideshow": {
     "slide_type": "fragment"
    }
   },
   "source": [
    "Nessa perspectiva, dados e evidências são frequentemente empregados para ilustrar ou “provar” teorias (ou “hipóteses”). Nesse caso, hipóteses *não* são refutáveis por evidências."
   ]
  },
  {
   "cell_type": "markdown",
   "metadata": {
    "slideshow": {
     "slide_type": "slide"
    }
   },
   "source": [
    "## Qual o lugar de teorias e modelos?\n",
    "\n",
    "Uma visão importante, apesar de polêmica, é a de que teorias e modelos são comuns na análise histórica: a diferença está em se eles são explícitos ou implícitos na análise."
   ]
  },
  {
   "cell_type": "markdown",
   "metadata": {
    "slideshow": {
     "slide_type": "fragment"
    }
   },
   "source": [
    "[Robert Fogel](https://en.wikipedia.org/wiki/Robert_Fogel) (1967) argumenta que o uso de teorias e modelos de\n",
    "maneira implícita é uma prática comum e antiga na História,\n",
    "embora isso não seja reconhecido pela maioria dos praticantes."
   ]
  },
  {
   "cell_type": "markdown",
   "metadata": {
    "slideshow": {
     "slide_type": "fragment"
    }
   },
   "source": [
    "> “The belief that the older economic history is solidly grounded\n",
    "in fact is an illusion. Actually, it is permeated with untested\n",
    "covert models and subliminal mathematical assumptions”."
   ]
  },
  {
   "cell_type": "markdown",
   "metadata": {
    "slideshow": {
     "slide_type": "slide"
    }
   },
   "source": [
    "## Contrafactuais\n",
    "\n",
    "Um método comum nesta abordagem (de Fogel) é a adoção de *contrafactuais*. Contrafactual: uma sequência de eventos alternativa ao que de fato ocorreu."
   ]
  },
  {
   "cell_type": "markdown",
   "metadata": {
    "slideshow": {
     "slide_type": "fragment"
    }
   },
   "source": [
    "Fogel sustenta que contrafactuais são amplamente utilizados pelos historiadores, embora novamente de maneira implícita."
   ]
  },
  {
   "cell_type": "markdown",
   "metadata": {
    "slideshow": {
     "slide_type": "fragment"
    }
   },
   "source": [
    "A ideia é que todas afirmações que estabelecem uma relação de causa e efeito contêm um contrafactual."
   ]
  },
  {
   "cell_type": "markdown",
   "metadata": {
    "slideshow": {
     "slide_type": "subslide"
    }
   },
   "source": [
    "Por exemplo: \"O atentado que matou o Arquiduque Franz Ferdinand em junho de 1914 causou a I Guerra Mundial\". Implicitamente significa dizer: sem o atentado não haveria I Guerra Mundial."
   ]
  },
  {
   "cell_type": "markdown",
   "metadata": {
    "slideshow": {
     "slide_type": "fragment"
    }
   },
   "source": [
    "Ou: \"A escravidão no Sul dos Estados Unidos foi necessária para a Revolução Industrial Britânica\" é equivalente ao seu contrafactual, ou seja, que sem escravidão não haveria Revolução Industrial."
   ]
  },
  {
   "cell_type": "markdown",
   "metadata": {
    "slideshow": {
     "slide_type": "fragment"
    }
   },
   "source": [
    "Portanto, a hipótese alternativa (contrafactual) teria de ser igualmente avaliada: é plausível e consistente com as evidências?"
   ]
  },
  {
   "cell_type": "markdown",
   "metadata": {
    "slideshow": {
     "slide_type": "slide"
    }
   },
   "source": [
    "## Cliometria\n",
    "\n",
    "O principal benefício de explicitar contrafactuais, bem como as\n",
    "teorias e os modelos utilizados, é tornar os argumentos dos\n",
    "historiadores econômicos testáveis e sujeitos à falsificação."
   ]
  },
  {
   "cell_type": "markdown",
   "metadata": {
    "slideshow": {
     "slide_type": "fragment"
    }
   },
   "source": [
    "Por sua vez, as técnicas para submeter os dados e resultados das\n",
    "análises a testes e verificação abrangem também (ou seja, não\n",
    "somente) técnicas quantitativas – estatística e econometria"
   ]
  },
  {
   "cell_type": "markdown",
   "metadata": {
    "slideshow": {
     "slide_type": "fragment"
    }
   },
   "source": [
    "A combinação de teoria e métodos estatísticos na análise\n",
    "histórica constitui a Cliometria, da qual Fogel é um dos\n",
    "principais representantes (Clio = Deusa da história, metria =\n",
    "derivado de econometria)."
   ]
  },
  {
   "cell_type": "markdown",
   "metadata": {
    "slideshow": {
     "slide_type": "slide"
    }
   },
   "source": [
    "## Definição\n",
    "\n",
    "Uma definição ampla e ecumênica da Cliometria é a dada por [Lyons\n",
    "et al.](https://eh.net/encyclopedia/cliometrics/) (2009). “Cliometrics has three obvious elements” e um quarto elemento não tão óbvio e frequentemente esquecido:"
   ]
  },
  {
   "cell_type": "markdown",
   "metadata": {
    "slideshow": {
     "slide_type": "fragment"
    }
   },
   "source": [
    "a. “use of quantifiable evidence,”\n"
   ]
  },
  {
   "cell_type": "markdown",
   "metadata": {
    "slideshow": {
     "slide_type": "fragment"
    }
   },
   "source": [
    "b. “use of theoretical concepts and models,”"
   ]
  },
  {
   "cell_type": "markdown",
   "metadata": {
    "slideshow": {
     "slide_type": "fragment"
    }
   },
   "source": [
    "c. “use of statistical methods of estimation and inference;”\n"
   ]
  },
  {
   "cell_type": "markdown",
   "metadata": {
    "slideshow": {
     "slide_type": "subslide"
    }
   },
   "source": [
    "d. “and an important fourth element, employment of the historian’s\n",
    "skills in judging provenance and quality of sources, in placing an\n",
    "investigation in institutional and social context, and in choosing\n",
    "subject matter of significance to history as well as economics.”"
   ]
  },
  {
   "cell_type": "markdown",
   "metadata": {
    "slideshow": {
     "slide_type": "slide"
    }
   },
   "source": [
    "## Outras perspectivas\n",
    "\n",
    "Naturalmente, há outras perspectivas na História Econômica, distintas das que vimos até agora."
   ]
  },
  {
   "cell_type": "markdown",
   "metadata": {
    "slideshow": {
     "slide_type": "fragment"
    }
   },
   "source": [
    "Por exemplo, Joel Mokyr usou a analogia da História Econômica como uma “economia pequena e aberta”, que importa de várias disciplinas (não só a Economia) e exporta para outras tantas."
   ]
  },
  {
   "cell_type": "markdown",
   "metadata": {
    "slideshow": {
     "slide_type": "fragment"
    }
   },
   "source": [
    "Outros enfatizam mais o objetivo de “compreender” (*Verstehen*) em vez de “explicar”: para compreender fatos e processos do passado, seria necessário resgatar os *significados das ações do ponto de vista dos atores e dos contextos envolvidos* (derivado da hermenêutica)."
   ]
  },
  {
   "cell_type": "markdown",
   "metadata": {
    "slideshow": {
     "slide_type": "subslide"
    }
   },
   "source": [
    "Em resumo, questões metodológicas como estas e as demais tratadas nesta aula serão frequentemente revisitadas ao longo de nosso curso."
   ]
  }
 ],
 "metadata": {
  "celltoolbar": "Slideshow",
  "kernelspec": {
   "display_name": "Python 3 (ipykernel)",
   "language": "python",
   "name": "python3"
  },
  "language_info": {
   "codemirror_mode": {
    "name": "ipython",
    "version": 3
   },
   "file_extension": ".py",
   "mimetype": "text/x-python",
   "name": "python",
   "nbconvert_exporter": "python",
   "pygments_lexer": "ipython3",
   "version": "3.8.15"
  },
  "toc": {
   "base_numbering": 1,
   "nav_menu": {},
   "number_sections": false,
   "sideBar": true,
   "skip_h1_title": true,
   "title_cell": "Table of Contents",
   "title_sidebar": "Contents",
   "toc_cell": false,
   "toc_position": {},
   "toc_section_display": true,
   "toc_window_display": false
  }
 },
 "nbformat": 4,
 "nbformat_minor": 4
}
